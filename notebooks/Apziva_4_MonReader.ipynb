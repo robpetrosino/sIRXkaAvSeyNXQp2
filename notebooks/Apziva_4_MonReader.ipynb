{
 "cells": [
  {
   "cell_type": "markdown",
   "metadata": {},
   "source": [
    "# Introduction\n",
    "\n",
    "The client is a leader in innovative computer vision solutions, and is seeking help to develop MonReader, a new mobile document digitization experience for the blind, researchers, and for everyone else in need for fully automatic, highly fast and high-quality document scanning in bulk. MonReader is a mobile app that detects page flips from low-resolution camera preview, takes a high-resolution picture of the document, recognizing its corners, and crops it accordingly; it dewarps the cropped document to obtain a bird's eye view, and sharpens the contrast between the text and the background; and finally recognizes the text with formatting kept intact, being further corrected by MonReader's ML powered redactor.\n",
    "\n",
    "The dataset consists of frames extracted from page flipping videos from smart phones, which were eventually labelled as flipping and not flipping. The frame names are stored in the `data/raw` folder in sequential order with the following naming structure: `VideoID_FrameNumber`.\n",
    "\n",
    "The goal of the project is to build a deep learning model that is able to predict:\n",
    "\n",
    "1. if the page is being flipped using a single image;\n",
    "2. if a given sequence of images contains an action of flipping.\n",
    "\n",
    "Evaluation will primarily base on the F1 score."
   ]
  }
 ],
 "metadata": {
  "language_info": {
   "name": "python"
  }
 },
 "nbformat": 4,
 "nbformat_minor": 2
}
